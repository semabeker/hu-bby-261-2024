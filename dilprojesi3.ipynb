{
  "nbformat": 4,
  "nbformat_minor": 0,
  "metadata": {
    "colab": {
      "provenance": [],
      "authorship_tag": "ABX9TyMU6OJe/QRi4spKAE9+25l8",
      "include_colab_link": true
    },
    "kernelspec": {
      "name": "python3",
      "display_name": "Python 3"
    },
    "language_info": {
      "name": "python"
    }
  },
  "cells": [
    {
      "cell_type": "markdown",
      "metadata": {
        "id": "view-in-github",
        "colab_type": "text"
      },
      "source": [
        "<a href=\"https://colab.research.google.com/github/semabeker/hu-bby-261-2024/blob/main/dilprojesi3.ipynb\" target=\"_parent\"><img src=\"https://colab.research.google.com/assets/colab-badge.svg\" alt=\"Open In Colab\"/></a>"
      ]
    },
    {
      "cell_type": "code",
      "source": [],
      "metadata": {
        "id": "zb0Uu1y-4G_5"
      },
      "execution_count": null,
      "outputs": []
    },
    {
      "cell_type": "code",
      "source": [
        "import langdetect\n",
        "import langid\n",
        "\n",
        "def detect_language_langdetect(text):\n",
        "    lang_codes = {\n",
        "        'tr': 'Türkçe',\n",
        "        'en': 'İngilizce',\n",
        "        'de': 'Almanca',\n",
        "        'fr': 'Fransızca',\n",
        "        'es': 'İspanyolca'\n",
        "    }\n",
        "    try:\n",
        "        lang_code = langdetect.detect(text)\n",
        "        return lang_codes.get(lang_code, \"Bilinmeyen dil\")\n",
        "    except langdetect.lang_detect_exception.LangDetectException:\n",
        "        return \"Dil tespiti yapılamadı\"\n",
        "\n",
        "\n",
        "def detect_language_langid(text):\n",
        "    lang_codes = {\n",
        "        'tr': 'Türkçe',\n",
        "        'en': 'İngilizce',\n",
        "        'de': 'Almanca',\n",
        "        'fr': 'Fransızca',\n",
        "        'es': 'İspanyolca'\n",
        "    }\n",
        "    lang, _ = langid.classify(text)\n",
        "    return lang_codes.get(lang, \"Bilinmeyen dil\")\n",
        "\n",
        "\n",
        "text = input(\"Bir metin girin: \")\n",
        "\n",
        "\n",
        "result_langdetect = detect_language_langdetect(text)\n",
        "print(f\"langdetect ile tespit edilen dil: {result_langdetect}\")\n",
        "\n",
        "\n",
        "result_langid = detect_language_langid(text)\n",
        "print(f\"langid ile tespit edilen dil: {result_langid}\")\n"
      ],
      "metadata": {
        "id": "vxICnbaI3n1v"
      },
      "execution_count": null,
      "outputs": []
    },
    {
      "cell_type": "code",
      "source": [
        "from langdetect import detect\n",
        "import langid\n",
        "\n",
        "\n",
        "def detect_language_langdetect(text):\n",
        "    lang_codes = {\n",
        "        'tr': 'Türkçe',\n",
        "        'en': 'İngilizce',\n",
        "        'de': 'Almanca',\n",
        "        'fr': 'Fransızca',\n",
        "        'es': 'İspanyolca'\n",
        "    }\n",
        "    try:\n",
        "        lang_code = detect(text)\n",
        "        return lang_codes.get(lang_code, \"Bilinmeyen dil\")\n",
        "    except Exception as e:\n",
        "        return f\"Dil tespiti yapılamadı: {str(e)}\"\n",
        "\n",
        "\n",
        "def detect_language_langid(text):\n",
        "    lang_codes = {\n",
        "        'tr': 'Türkçe',\n",
        "        'en': 'İngilizce',\n",
        "        'de': 'Almanca',\n",
        "        'fr': 'Fransızca',\n",
        "        'es': 'İspanyolca'\n",
        "    }\n",
        "    lang, _ = langid.classify(text)\n",
        "    return lang_codes.get(lang, \"Bilinmeyen dil\")\n",
        "\n",
        "\n",
        "text = input(\"Bir metin girin: \")\n",
        "\n",
        "result_langdetect = detect_language_langdetect(text)\n",
        "print(f\"langdetect ile tespit edilen dil: {result_langdetect}\")\n",
        "\n",
        "# Langid kullanarak dil tespiti\n",
        "result_langid = detect_language_langid(text)\n",
        "print(f\"langid ile tespit edilen dil: {result_langid}\")\n"
      ],
      "metadata": {
        "colab": {
          "base_uri": "https://localhost:8080/",
          "height": 383
        },
        "id": "fhkVxOKq4LEP",
        "outputId": "ae852156-aed1-4292-847c-7d4cb61662bf"
      },
      "execution_count": 9,
      "outputs": [
        {
          "output_type": "error",
          "ename": "ModuleNotFoundError",
          "evalue": "No module named 'langdetect'",
          "traceback": [
            "\u001b[0;31m---------------------------------------------------------------------------\u001b[0m",
            "\u001b[0;31mModuleNotFoundError\u001b[0m                       Traceback (most recent call last)",
            "\u001b[0;32m<ipython-input-9-57420e081eac>\u001b[0m in \u001b[0;36m<cell line: 1>\u001b[0;34m()\u001b[0m\n\u001b[0;32m----> 1\u001b[0;31m \u001b[0;32mfrom\u001b[0m \u001b[0mlangdetect\u001b[0m \u001b[0;32mimport\u001b[0m \u001b[0mdetect\u001b[0m  \u001b[0;31m# langdetect doğru şekilde import ediliyor\u001b[0m\u001b[0;34m\u001b[0m\u001b[0;34m\u001b[0m\u001b[0m\n\u001b[0m\u001b[1;32m      2\u001b[0m \u001b[0;32mimport\u001b[0m \u001b[0mlangid\u001b[0m  \u001b[0;31m# langid doğru şekilde import ediliyor\u001b[0m\u001b[0;34m\u001b[0m\u001b[0;34m\u001b[0m\u001b[0m\n\u001b[1;32m      3\u001b[0m \u001b[0;34m\u001b[0m\u001b[0m\n\u001b[1;32m      4\u001b[0m \u001b[0;31m# Dil tespiti için langdetect kullanan fonksiyon\u001b[0m\u001b[0;34m\u001b[0m\u001b[0;34m\u001b[0m\u001b[0m\n\u001b[1;32m      5\u001b[0m \u001b[0;32mdef\u001b[0m \u001b[0mdetect_language_langdetect\u001b[0m\u001b[0;34m(\u001b[0m\u001b[0mtext\u001b[0m\u001b[0;34m)\u001b[0m\u001b[0;34m:\u001b[0m\u001b[0;34m\u001b[0m\u001b[0;34m\u001b[0m\u001b[0m\n",
            "\u001b[0;31mModuleNotFoundError\u001b[0m: No module named 'langdetect'",
            "",
            "\u001b[0;31m---------------------------------------------------------------------------\u001b[0;32m\nNOTE: If your import is failing due to a missing package, you can\nmanually install dependencies using either !pip or !apt.\n\nTo view examples of installing some common dependencies, click the\n\"Open Examples\" button below.\n\u001b[0;31m---------------------------------------------------------------------------\u001b[0m\n"
          ],
          "errorDetails": {
            "actions": [
              {
                "action": "open_url",
                "actionText": "Open Examples",
                "url": "/notebooks/snippets/importing_libraries.ipynb"
              }
            ]
          }
        }
      ]
    }
  ]
}