{
  "nbformat": 4,
  "nbformat_minor": 0,
  "metadata": {
    "colab": {
      "provenance": [],
      "authorship_tag": "ABX9TyNSBsC8ulzYxvIohigwRdx7",
      "include_colab_link": true
    },
    "kernelspec": {
      "name": "python3",
      "display_name": "Python 3"
    },
    "language_info": {
      "name": "python"
    }
  },
  "cells": [
    {
      "cell_type": "markdown",
      "metadata": {
        "id": "view-in-github",
        "colab_type": "text"
      },
      "source": [
        "<a href=\"https://colab.research.google.com/github/semabeker/hu-bby-261-2024/blob/main/dilproje4.ipynb\" target=\"_parent\"><img src=\"https://colab.research.google.com/assets/colab-badge.svg\" alt=\"Open In Colab\"/></a>"
      ]
    },
    {
      "cell_type": "code",
      "source": [
        "# Gerekli kütüphaneleri yükleyelim\n",
        "from sklearn.feature_extraction.text import TfidfVectorizer\n",
        "from sklearn.model_selection import train_test_split\n",
        "from sklearn.linear_model import LogisticRegression\n",
        "from sklearn.metrics import accuracy_score\n",
        "\n",
        "# Örnek metinler ve etiketler (Konu başlıkları)\n",
        "data = [\n",
        "    (\"Bugün hükümet yeni bir ekonomi paketi açıkladı.\", \"Siyaset\"),\n",
        "    (\"Apple, yeni iPhone modelini tanıttı.\", \"Teknoloji\"),\n",
        "    (\"Fenerbahçe, Galatasaray'ı 3-1 yenerek zirveye çıktı.\", \"Spor\"),\n",
        "    (\"Doktorlar, sağlıklı beslenmenin kanser riskini azalttığını belirtti.\", \"Sağlık\"),\n",
        "    (\"Netflix, yeni bir diziyle kullanıcılarının karşısına çıktı.\", \"Eğlence\"),\n",
        "    (\"Bilgisayar virüsleri, kullanıcıların kişisel bilgilerini çalabilir.\", \"Teknoloji\"),\n",
        "    (\"Süper Lig'de bu hafta hangi maçlar oynanacak?\", \"Spor\"),\n",
        "    (\"Dünya genelindeki COVID-19 vaka sayıları artmaya devam ediyor.\", \"Sağlık\"),\n",
        "    (\"Sinema dünyası, yılın en iyi filmi seçildi.\", \"Eğlence\"),\n",
        "    (\"Bu akşamki partiye hangi politikacı katılacak?\", \"Siyaset\")\n",
        "]\n",
        "\n",
        "# Veriyi ayırma\n",
        "texts = [text for text, label in data]\n",
        "labels = [label for text, label in data]\n",
        "\n",
        "# TF-IDF vektörizerini oluşturma\n",
        "vectorizer = TfidfVectorizer(stop_words='english')\n",
        "\n",
        "# Metinleri sayısal verilere dönüştürme\n",
        "X = vectorizer.fit_transform(texts)\n",
        "\n",
        "# Veriyi eğitim ve test olarak ayırma\n",
        "X_train, X_test, y_train, y_test = train_test_split(X, labels, test_size=0.2, random_state=42)\n",
        "\n",
        "# Modeli eğitme\n",
        "model = LogisticRegression()\n",
        "model.fit(X_train, y_train)\n",
        "\n",
        "# Test verisi üzerinde tahmin yapma\n",
        "y_pred = model.predict(X_test)\n",
        "\n",
        "# Modelin doğruluğunu hesaplama\n",
        "accuracy = accuracy_score(y_test, y_pred)\n",
        "print(f\"Model Doğruluğu: {accuracy:.4f}\")\n",
        "\n",
        "# Yeni metinle tahmin yapma fonksiyonu\n",
        "def predict_topic(text):\n",
        "    text_vec = vectorizer.transform([text])\n",
        "    prediction = model.predict(text_vec)\n",
        "    return prediction[0]\n",
        "\n",
        "# Cevap verme fonksiyonu\n",
        "def generate_response(topic):\n",
        "    responses = {\n",
        "        \"Siyaset\": \"Politikalar ve hükümetin geleceği hakkında daha fazla bilgi edinmek isterseniz, dünya gündemini takip etmek önemlidir.\",\n",
        "        \"Teknoloji\": \"Teknoloji hızla gelişiyor! Yeni inovasyonları takip etmek için teknoloji dünyasındaki en son trendleri keşfetmek gerekir.\",\n",
        "        \"Spor\": \"Spor dünyasında heyecan dorukta! Takımların performansları hakkında daha fazla bilgi edinmek isterseniz, lig sonuçlarına göz atabilirsiniz.\",\n",
        "        \"Sağlık\": \"Sağlık her şeyden önce gelir. Sağlıklı yaşam tarzları, düzenli egzersiz ve dengeli beslenme, yaşam kalitenizi artırabilir.\",\n",
        "        \"Eğlence\": \"Eğlence dünyasında çok fazla seçenek var. Film, dizi ya da oyun önerileri arıyorsanız, popüler içerikleri incelemenizi tavsiye ederim.\",\n",
        "        \"Diğer Konular\": \"Bu konuda bir şeyler söylemek zor. Belki başka bir konuda konuşmak istersiniz?\"\n",
        "    }\n",
        "    return responses.get(topic, \"Bu konuda bir cevap verilemiyor. Farklı bir konu hakkında konuşmak ister misiniz?\")\n",
        "\n",
        "# Kullanıcıdan metin alma ve cevap verme\n",
        "def user_input_response():\n",
        "    user_text = input(\"Bir metin girin: \")  # Kullanıcıdan metin alıyoruz\n",
        "    topic = predict_topic(user_text)  # Metni sınıflandırıyoruz\n",
        "    print(f\"Metnin Konusu: {topic}\")\n",
        "    response = generate_response(topic)  # Konuya uygun cevabı alıyoruz\n",
        "    print(f\"Cevap: {response}\")\n",
        "\n",
        "# Yeni bir metinle test etme\n",
        "user_input_response()\n"
      ],
      "metadata": {
        "colab": {
          "base_uri": "https://localhost:8080/"
        },
        "id": "mgf9OZ5pfbjq",
        "outputId": "88ab93b8-9b62-4710-c97b-f35bb37e649f"
      },
      "execution_count": null,
      "outputs": [
        {
          "output_type": "stream",
          "name": "stdout",
          "text": [
            "Model Doğruluğu: 0.0000\n"
          ]
        }
      ]
    }
  ]
}