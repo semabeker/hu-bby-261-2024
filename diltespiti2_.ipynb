{
  "nbformat": 4,
  "nbformat_minor": 0,
  "metadata": {
    "colab": {
      "provenance": [],
      "authorship_tag": "ABX9TyMOJ//lG2CmaKG8mNWFdvF7",
      "include_colab_link": true
    },
    "kernelspec": {
      "name": "python3",
      "display_name": "Python 3"
    },
    "language_info": {
      "name": "python"
    }
  },
  "cells": [
    {
      "cell_type": "markdown",
      "metadata": {
        "id": "view-in-github",
        "colab_type": "text"
      },
      "source": [
        "<a href=\"https://colab.research.google.com/github/semabeker/hu-bby-261-2024/blob/main/diltespiti2_.ipynb\" target=\"_parent\"><img src=\"https://colab.research.google.com/assets/colab-badge.svg\" alt=\"Open In Colab\"/></a>"
      ]
    },
    {
      "cell_type": "code",
      "execution_count": null,
      "metadata": {
        "colab": {
          "base_uri": "https://localhost:8080/"
        },
        "id": "z-VO76XNSB_g",
        "outputId": "1c22d90b-1275-40fe-efb3-0c033b16d12a"
      },
      "outputs": [
        {
          "output_type": "stream",
          "name": "stdout",
          "text": [
            "Metnin hangi konu başlığı ile ilgili olduğunu öğrenmek için bir metin girin (Çıkmak için 'q' ya basın):\n",
            "Girilen Metin: sizce hangi parti kazanır\n",
            "Girdiğiniz metin muhtemelen 'Siyaset' konusuyla ilgili.\n",
            "\n",
            "Girilen Metin: umarım hastalığınız geçer\n",
            "Girdiğiniz metin muhtemelen 'Diğer Konular' konusuyla ilgili.\n",
            "\n",
            "Girilen Metin: umarım hastalık bulaştırmazsın\n",
            "Girdiğiniz metin muhtemelen 'Sağlık' konusuyla ilgili.\n",
            "\n",
            "Girilen Metin: sence hangi takım gol atar\n",
            "Girdiğiniz metin muhtemelen 'Spor' konusuyla ilgili.\n",
            "\n"
          ]
        }
      ],
      "source": [
        "def konu_tespiti(metin):\n",
        "    # Her konu başlığı için anahtar kelimeler\n",
        "    konu_anahtar_kelime = {\n",
        "        'Siyaset': ['seçim', 'hükümet', 'parlamento', 'oy', 'parti', 'politika', 'demokrasi'],\n",
        "        'Teknoloji': ['yazılım', 'donanım', 'internet', 'akıllı', 'teknoloji', 'robot', 'veri'],\n",
        "        'Spor': ['maç', 'takım', 'gol', 'spor', 'şampiyon', 'oyuncu', 'antrenman'],\n",
        "        'Sağlık': ['hastalık', 'sağlık', 'tedavi', 'beslenme', 'ilaç', 'doktor'],\n",
        "        'Eğlence': ['film', 'dizi', 'müzik', 'şarkı', 'eğlence', 'oyun', 'performans']\n",
        "    }\n",
        "\n",
        "    skorlar = {konu: 0 for konu in konu_anahtar_kelime}\n",
        "\n",
        "    # Metni kelimelere ayır ve küçük harfe çevir\n",
        "    kelimeler = metin.lower().split()\n",
        "\n",
        "    # Her konu başlığı için anahtar kelimelerin sayısını hesapla\n",
        "    for kelime in kelimeler:\n",
        "        for konu, anahtar_kelimeler in konu_anahtar_kelime.items():\n",
        "            if kelime in anahtar_kelimeler:\n",
        "                skorlar[konu] += 1\n",
        "\n",
        "    # En yüksek skora sahip olan konu tespit et\n",
        "    en_yuksek_konu = max(skorlar, key=skorlar.get)\n",
        "\n",
        "    # Eğer hiç anahtar kelime bulunmadıysa \"diğer konular\" olarak döndür\n",
        "    if skorlar[en_yuksek_konu] == 0:\n",
        "        return \"Diğer Konular\"\n",
        "\n",
        "    return en_yuksek_konu\n",
        "\n",
        "def soru_sor():\n",
        "    print(\"Metnin hangi konu başlığı ile ilgili olduğunu öğrenmek için bir metin girin (Çıkmak için 'q' ya basın):\")\n",
        "\n",
        "    while True:\n",
        "        metin = input(\"Girilen Metin: \")\n",
        "\n",
        "        if metin.lower() == 'q':\n",
        "            print(\"Programdan çıkılıyor...\")\n",
        "            break\n",
        "\n",
        "        konu = konu_tespiti(metin)\n",
        "        print(f\"Girdiğiniz metin muhtemelen '{konu}' konusuyla ilgili.\\n\")\n",
        "\n",
        "# Uygulamayı çalıştırmak için\n",
        "soru_sor()\n"
      ]
    }
  ]
}