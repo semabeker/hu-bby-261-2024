{
  "nbformat": 4,
  "nbformat_minor": 0,
  "metadata": {
    "colab": {
      "provenance": [],
      "authorship_tag": "ABX9TyMtPfJ2GwoQPoayes3WZn8k",
      "include_colab_link": true
    },
    "kernelspec": {
      "name": "python3",
      "display_name": "Python 3"
    },
    "language_info": {
      "name": "python"
    }
  },
  "cells": [
    {
      "cell_type": "markdown",
      "metadata": {
        "id": "view-in-github",
        "colab_type": "text"
      },
      "source": [
        "<a href=\"https://colab.research.google.com/github/semabeker/hu-bby-261-2024/blob/main/diltespitdeneme1.ipynb\" target=\"_parent\"><img src=\"https://colab.research.google.com/assets/colab-badge.svg\" alt=\"Open In Colab\"/></a>"
      ]
    },
    {
      "cell_type": "code",
      "source": [],
      "metadata": {
        "colab": {
          "base_uri": "https://localhost:8080/"
        },
        "id": "2pnulwX0MoOB",
        "outputId": "7a636300-972d-47b6-c41f-82b1494a429b"
      },
      "execution_count": null,
      "outputs": [
        {
          "output_type": "stream",
          "name": "stdout",
          "text": [
            "Türkçe\n"
          ]
        }
      ]
    },
    {
      "cell_type": "code",
      "source": [
        "def dil_tespiti(metin):\n",
        "\n",
        "    dil_ozellikleri = {\n",
        "        'Türkçe': {\n",
        "            'karakterler': 'çşığüö',\n",
        "            'soru_ekleri': ['mi', 'mı', 'mu', 'mü']\n",
        "        },\n",
        "        'İngilizce': {\n",
        "            'karakterler': 'wqxj',\n",
        "            'soru_kelimeri': ['what', 'where', 'how', 'why', 'do', 'does', 'is']\n",
        "        },\n",
        "        'Almanca': {\n",
        "            'karakterler': 'äöüß',\n",
        "            'soru_kelimeri': ['was', 'wo', 'wie', 'warum']\n",
        "        },\n",
        "        'Fransızca': {\n",
        "            'karakterler': 'éèàç',\n",
        "            'soru_kelimeri': ['quoi', 'où', 'comment', 'pourquoi']\n",
        "        },\n",
        "        'İspanyolca': {\n",
        "            'karakterler': 'áéíóúüñ',\n",
        "            'soru_kelimeri': ['qué', 'dónde', 'cómo', 'por qué']\n",
        "        }\n",
        "    }\n",
        "\n",
        "    skorlar = {dil: 0 for dil in dil_ozellikleri}\n",
        "    metin_lower = metin.lower()\n",
        "\n",
        "\n",
        "    for dil, ozellikler in dil_ozellikleri.items():\n",
        "        karakter_skoru = sum(metin_lower.count(harf) for harf in ozellikler['karakterler'])\n",
        "        skorlar[dil] += karakter_skoru * 2\n",
        "\n",
        "\n",
        "    soru_cumlesi = False\n",
        "    for dil, ozellikler in dil_ozellikleri.items():\n",
        "\n",
        "        if dil == 'Türkçe' and any(metin_lower.endswith(ek) for ek in ozellikler['soru_ekleri']):\n",
        "            skorlar[dil] += 3\n",
        "            soru_cumlesi = True\n",
        "\n",
        "        elif any(kelime in metin_lower for kelime in ozellikler.get('soru_kelimeri', [])):\n",
        "            skorlar[dil] += 3\n",
        "            soru_cumlesi = True\n",
        "\n",
        "\n",
        "    tespit_edilen_dil = max(skorlar, key=skorlar.get)\n",
        "\n",
        "\n",
        "    if soru_cumlesi:\n",
        "        print(f\"Girilen metin bir soru cümlesidir ve muhtemelen {tespit_edilen_dil} dilinde yazılmıştır.\")\n",
        "    else:\n",
        "        print(f\"Girilen metin muhtemelen {tespit_edilen_dil} dilinde yazılmıştır.\")\n",
        "\n",
        "\n",
        "metin1 = \"Bu bir test cümlesi mi?\"\n",
        "dil_tespiti(metin1)\n",
        "\n",
        "metin2 = \"Where is the nearest cafe?\"\n",
        "dil_tespiti(metin2)\n",
        "\n",
        "metin3 = \"Comment ça va?\"\n",
        "dil_tespiti(metin3)\n",
        "\n",
        "metin4 = \"¿Dónde está el baño?\"\n",
        "dil_tespiti(metin4)\n"
      ],
      "metadata": {
        "colab": {
          "base_uri": "https://localhost:8080/"
        },
        "id": "6KG_zFssNQPO",
        "outputId": "f388df0c-991b-419c-852b-d9b59c2d9eb8"
      },
      "execution_count": 1,
      "outputs": [
        {
          "output_type": "stream",
          "name": "stdout",
          "text": [
            "Girilen metin muhtemelen Türkçe dilinde yazılmıştır.\n",
            "Girilen metin bir soru cümlesidir ve muhtemelen İngilizce dilinde yazılmıştır.\n",
            "Girilen metin bir soru cümlesidir ve muhtemelen Fransızca dilinde yazılmıştır.\n",
            "Girilen metin bir soru cümlesidir ve muhtemelen İspanyolca dilinde yazılmıştır.\n"
          ]
        }
      ]
    },
    {
      "cell_type": "code",
      "source": [
        "def dil_tespiti(metin):\n",
        "\n",
        "    dil_ozellikleri = {\n",
        "        'Türkçe': 'çşığüö',\n",
        "        'İngilizce': 'wqxj',\n",
        "        'Almanca': 'äöüß',\n",
        "        'Fransızca': 'éèàç',\n",
        "        'İspanyolca': 'áéíóúüñ'\n",
        "    }\n",
        "\n",
        "    skorlar = {dil: 0 for dil in dil_ozellikleri}\n",
        "    metin_lower = metin.lower()\n",
        "\n",
        "\n",
        "    for dil, karakterler in dil_ozellikleri.items():\n",
        "        skorlar[dil] = sum(metin_lower.count(harf) for harf in karakterler)\n",
        "\n",
        "\n",
        "    tespit_edilen_dil = max(skorlar, key=skorlar.get)\n",
        "    return tespit_edilen_dil\n",
        "\n",
        "def soru_sor():\n",
        "    print(\"Metnin hangi dilde yazıldığını öğrenmek için bir cümle girin:\")\n",
        "    metin = input(\"Girilen Metin: \")\n",
        "\n",
        "    dil = dil_tespiti(metin)\n",
        "    print(f\"Girdiğiniz metin muhtemelen {dil} dilinde yazılmıştır.\")\n",
        "\n",
        "\n",
        "soru_sor()\n"
      ],
      "metadata": {
        "colab": {
          "base_uri": "https://localhost:8080/"
        },
        "id": "F8CDTWlBNuyX",
        "outputId": "6ef465dd-2324-4eea-ffe2-c4d699c0e382"
      },
      "execution_count": null,
      "outputs": [
        {
          "output_type": "stream",
          "name": "stdout",
          "text": [
            "Metnin hangi dilde yazıldığını öğrenmek için bir cümle girin:\n",
            "Girilen Metin: welcome\n",
            "Girdiğiniz metin muhtemelen İngilizce dilinde yazılmıştır.\n"
          ]
        }
      ]
    },
    {
      "cell_type": "code",
      "source": [
        "def dil_tespiti(metin):\n",
        "\n",
        "    dil_ozellikleri = {\n",
        "        'Türkçe': 'çşığüö',\n",
        "        'İngilizce': 'wqxj',\n",
        "        'Almanca': 'äöüß',\n",
        "        'Fransızca': 'éèàç',\n",
        "        'İspanyolca': 'áéíóúüñ'\n",
        "    }\n",
        "\n",
        "    skorlar = {dil: 0 for dil in dil_ozellikleri}\n",
        "    metin_lower = metin.lower()\n",
        "\n",
        "\n",
        "    for dil, karakterler in dil_ozellikleri.items():\n",
        "        skorlar[dil] = sum(metin_lower.count(harf) for harf in karakterler)\n",
        "\n",
        "\n",
        "    tespit_edilen_dil = max(skorlar, key=skorlar.get)\n",
        "    return tespit_edilen_dil\n",
        "\n",
        "def soru_sor():\n",
        "    print(\"Metnin hangi dilde yazıldığını öğrenmek için bir cümle girin (Çıkmak için 'q' ya basın):\")\n",
        "\n",
        "    while True:\n",
        "        metin = input(\"Girilen Metin: \")\n",
        "\n",
        "        if metin.lower() == 'q':\n",
        "            print(\"Programdan çıkılıyor...\")\n",
        "            break\n",
        "\n",
        "        dil = dil_tespiti(metin)\n",
        "        print(f\"Girdiğiniz metin muhtemelen {dil} dilinde yazılmıştır.\\n\")\n",
        "\n",
        "\n",
        "soru_sor()\n"
      ],
      "metadata": {
        "id": "V3E9i5meONo3"
      },
      "execution_count": null,
      "outputs": []
    },
    {
      "cell_type": "code",
      "source": [
        "def dil_tespiti(metin):\n",
        "\n",
        "    dil_ozellikleri = {\n",
        "        'Türkçe': {\n",
        "            'karakterler': 'çşığüö',\n",
        "            'kelimeler': ['ve', 'bir', 'bu', 'mi', 'mı']\n",
        "        },\n",
        "        'İngilizce': {\n",
        "            'karakterler': 'wqxj',\n",
        "            'kelimeler': ['the', 'is', 'and', 'what', 'do']\n",
        "        },\n",
        "        'Almanca': {\n",
        "            'karakterler': 'äöüß',\n",
        "            'kelimeler': ['und', 'ist', 'ein', 'was', 'wie']\n",
        "        },\n",
        "        'Fransızca': {\n",
        "            'karakterler': 'éèàç',\n",
        "            'kelimeler': ['le', 'est', 'et', 'quoi', 'pour']\n",
        "        },\n",
        "        'İspanyolca': {\n",
        "            'karakterler': 'áéíóúüñ',\n",
        "            'kelimeler': ['el', 'es', 'y', 'qué', 'por']\n",
        "        }\n",
        "    }\n",
        "\n",
        "    skorlar = {dil: 0 for dil in dil_ozellikleri}\n",
        "    metin_lower = metin.lower()\n",
        "\n",
        "\n",
        "    for dil, ozellikler in dil_ozellikleri.items():\n",
        "\n",
        "        karakter_skoru = sum(metin_lower.count(harf) for harf in ozellikler['karakterler'])\n",
        "        skorlar[dil] += karakter_skoru * 2\n",
        "\n",
        "\n",
        "        kelime_skoru = sum(metin_lower.count(kelime) for kelime in ozellikler['kelimeler'])\n",
        "        skorlar[dil] += kelime_skoru * 3\n",
        "\n",
        "\n",
        "    tespit_edilen_dil = max(skorlar, key=skorlar.get)\n",
        "    return tespit_edilen_dil\n",
        "\n",
        "def soru_sor():\n",
        "    print(\"Metnin hangi dilde yazıldığını öğrenmek için bir cümle girin (Çıkmak için 'q' ya basın):\")\n",
        "\n",
        "    while True:\n",
        "        metin = input(\"Girilen Metin: \")\n",
        "\n",
        "        if metin.lower() == 'q':\n",
        "            print(\"Programdan çıkılıyor...\")\n",
        "            break\n",
        "\n",
        "        dil = dil_tespiti(metin)\n",
        "        print(f\"Girdiğiniz metin muhtemelen {dil} dilinde yazılmıştır.\\n\")\n",
        "\n",
        "\n",
        "soru_sor()\n"
      ],
      "metadata": {
        "colab": {
          "base_uri": "https://localhost:8080/"
        },
        "id": "QCt9GU1pPwUX",
        "outputId": "5fddffd1-e172-493d-8834-54718708c2bd"
      },
      "execution_count": null,
      "outputs": [
        {
          "output_type": "stream",
          "name": "stdout",
          "text": [
            "Metnin hangi dilde yazıldığını öğrenmek için bir cümle girin (Çıkmak için 'q' ya basın):\n",
            "Girilen Metin: geldin mi\n",
            "Girdiğiniz metin muhtemelen Türkçe dilinde yazılmıştır.\n",
            "\n",
            "Girilen Metin: you and me\n",
            "Girdiğiniz metin muhtemelen İngilizce dilinde yazılmıştır.\n",
            "\n",
            "Girilen Metin: was\n",
            "Girdiğiniz metin muhtemelen Almanca dilinde yazılmıştır.\n",
            "\n"
          ]
        }
      ]
    }
  ]
}